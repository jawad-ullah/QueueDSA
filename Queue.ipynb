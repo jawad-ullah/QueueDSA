{
 "cells": [
  {
   "cell_type": "markdown",
   "id": "cd82b680",
   "metadata": {},
   "source": [
    "## Queue Data structure in pyhton\n",
    "    _ implementation:\n",
    "        - python list\n",
    "        - collections.deque\n",
    "        - queue.LifoQueue"
   ]
  },
  {
   "cell_type": "markdown",
   "id": "0d88756f",
   "metadata": {},
   "source": [
    "## implementation using python list"
   ]
  },
  {
   "cell_type": "code",
   "execution_count": null,
   "id": "254be4c4",
   "metadata": {},
   "outputs": [],
   "source": [
    "wmt_stock_prices_queue=[]"
   ]
  },
  {
   "cell_type": "code",
   "execution_count": null,
   "id": "4246f09b",
   "metadata": {},
   "outputs": [],
   "source": [
    "wmt_stock_prices_queue.insert(0,131.10)\n",
    "wmt_stock_prices_queue.insert(0,132.12)\n",
    "wmt_stock_prices_queue.insert(0,135)"
   ]
  },
  {
   "cell_type": "code",
   "execution_count": null,
   "id": "f4fee368",
   "metadata": {},
   "outputs": [],
   "source": [
    "wmt_stock_prices_queue"
   ]
  },
  {
   "cell_type": "code",
   "execution_count": null,
   "id": "e7d54172",
   "metadata": {},
   "outputs": [],
   "source": [
    "wmt_stock_prices_queue.pop()"
   ]
  },
  {
   "cell_type": "code",
   "execution_count": null,
   "id": "0453960e",
   "metadata": {},
   "outputs": [],
   "source": [
    "wmt_stock_prices_queue.pop()"
   ]
  },
  {
   "cell_type": "code",
   "execution_count": null,
   "id": "60f7aae5",
   "metadata": {},
   "outputs": [],
   "source": [
    "wmt_stock_prices_queue.pop()"
   ]
  },
  {
   "cell_type": "code",
   "execution_count": null,
   "id": "d3b04e89",
   "metadata": {},
   "outputs": [],
   "source": [
    "wmt_stock_prices_queue.pop()"
   ]
  },
  {
   "cell_type": "code",
   "execution_count": null,
   "id": "915da976",
   "metadata": {},
   "outputs": [],
   "source": [
    "wmt_stock_prices_queue"
   ]
  },
  {
   "cell_type": "markdown",
   "id": "3773f2bd",
   "metadata": {},
   "source": [
    "## using collections.deque "
   ]
  },
  {
   "cell_type": "code",
   "execution_count": null,
   "id": "e4714346",
   "metadata": {},
   "outputs": [],
   "source": [
    "from collections import deque"
   ]
  },
  {
   "cell_type": "code",
   "execution_count": null,
   "id": "279c085e",
   "metadata": {},
   "outputs": [],
   "source": [
    "q=deque()"
   ]
  },
  {
   "cell_type": "code",
   "execution_count": null,
   "id": "d1e4e13a",
   "metadata": {},
   "outputs": [],
   "source": [
    "q.appendleft(5)\n",
    "q.appendleft(12)\n",
    "q.appendleft(14)"
   ]
  },
  {
   "cell_type": "code",
   "execution_count": null,
   "id": "fdd6ca6f",
   "metadata": {},
   "outputs": [],
   "source": [
    "q"
   ]
  },
  {
   "cell_type": "code",
   "execution_count": null,
   "id": "5ecec3ba",
   "metadata": {},
   "outputs": [],
   "source": [
    "q.pop()"
   ]
  },
  {
   "cell_type": "code",
   "execution_count": null,
   "id": "614ef520",
   "metadata": {},
   "outputs": [],
   "source": [
    "q"
   ]
  },
  {
   "cell_type": "markdown",
   "id": "b0101cb0",
   "metadata": {},
   "source": [
    "# Implementation using class and objects"
   ]
  },
  {
   "cell_type": "code",
   "execution_count": null,
   "id": "a59744a6",
   "metadata": {},
   "outputs": [],
   "source": [
    "class Queue:\n",
    "    \n",
    "    def __init__(self):\n",
    "        self.q=deque()\n",
    "    def enqueue(self,val):\n",
    "        return self.q.appendleft(val)\n",
    "    def dequeue(self):\n",
    "        if len(self.q)!= 0:\n",
    "            return self.q.pop()\n",
    "        else:\n",
    "            print(\"Queue is empty\")\n",
    "    def traverse(self):\n",
    "        return self.q\n",
    "    def is_empty(self):\n",
    "        return len(self.q)==0\n",
    "    def size(self):\n",
    "        return len(self.q)"
   ]
  },
  {
   "cell_type": "code",
   "execution_count": null,
   "id": "2b02e2c9",
   "metadata": {},
   "outputs": [],
   "source": [
    "qu=Queue()"
   ]
  },
  {
   "cell_type": "code",
   "execution_count": null,
   "id": "226726c3",
   "metadata": {},
   "outputs": [],
   "source": [
    "qu.enqueue(5)\n",
    "qu.enqueue(12)\n",
    "qu.enqueue(14)"
   ]
  },
  {
   "cell_type": "code",
   "execution_count": null,
   "id": "9935712f",
   "metadata": {},
   "outputs": [],
   "source": [
    "qu.traverse()"
   ]
  },
  {
   "cell_type": "code",
   "execution_count": null,
   "id": "1951f464",
   "metadata": {},
   "outputs": [],
   "source": [
    "qu.is_empty()"
   ]
  },
  {
   "cell_type": "code",
   "execution_count": null,
   "id": "8c28fe57",
   "metadata": {},
   "outputs": [],
   "source": [
    "qu.size()"
   ]
  },
  {
   "cell_type": "code",
   "execution_count": null,
   "id": "c9c78d18",
   "metadata": {},
   "outputs": [],
   "source": [
    "qu.dequeue()"
   ]
  },
  {
   "cell_type": "code",
   "execution_count": null,
   "id": "30ef346f",
   "metadata": {},
   "outputs": [],
   "source": [
    "qu.traverse()"
   ]
  },
  {
   "cell_type": "markdown",
   "id": "28ad6af7",
   "metadata": {},
   "source": [
    "# Practicle example\n",
    "   - Design a food ordering system where your python program will run two threads,\n",
    "\n",
    "  - Place Order: This thread will be placing an order and inserting that into a queue. This thread places new order every 0.5 second. (hint: use time.sleep(0.5) function)\n",
    "- Serve Order: This thread will server the order. All you need to do is pop the order out of the queue and print it. This thread serves an order every 2 seconds. Also start this thread 1 second after place order thread is started."
   ]
  },
  {
   "cell_type": "code",
   "execution_count": null,
   "id": "794b32e7",
   "metadata": {},
   "outputs": [],
   "source": [
    "import time\n",
    "import threading\n",
    "\n",
    "food_order_queue=Queue()\n",
    "\n",
    "def place_order(order):\n",
    "    for o in order:\n",
    "        print(o, \"Order is placed\")\n",
    "        food_order_queue.enqueue(o)\n",
    "        time.sleep(0.5)\n",
    "        \n",
    "def serve_order():\n",
    "    time.sleep(1)\n",
    "    while True:\n",
    "        order = food_order_queue.dequeue()\n",
    "        print(\"Now serving: \",order)\n",
    "        time.sleep(2)\n",
    "    \n"
   ]
  },
  {
   "cell_type": "code",
   "execution_count": null,
   "id": "46389eaf",
   "metadata": {},
   "outputs": [],
   "source": [
    "orders = ['pizza','samosa','pasta','biryani','burger']\n",
    "t1=threading.Thread(target=place_order,args=(orders,))\n",
    "t2=threading.Thread(target=serve_order)\n",
    "\n",
    "t1.start()\n",
    "t2.start()\n",
    "\n",
    "t1.join()\n",
    "t2.join()\n"
   ]
  },
  {
   "cell_type": "code",
   "execution_count": null,
   "id": "9c506d7c",
   "metadata": {},
   "outputs": [],
   "source": []
  },
  {
   "cell_type": "code",
   "execution_count": null,
   "id": "d25f6403",
   "metadata": {},
   "outputs": [],
   "source": []
  },
  {
   "cell_type": "code",
   "execution_count": null,
   "id": "08c46de3",
   "metadata": {},
   "outputs": [],
   "source": []
  },
  {
   "cell_type": "code",
   "execution_count": null,
   "id": "668bfe18",
   "metadata": {},
   "outputs": [],
   "source": []
  },
  {
   "cell_type": "code",
   "execution_count": null,
   "id": "00070532",
   "metadata": {},
   "outputs": [],
   "source": []
  },
  {
   "cell_type": "code",
   "execution_count": null,
   "id": "acb898a8",
   "metadata": {},
   "outputs": [],
   "source": []
  }
 ],
 "metadata": {
  "kernelspec": {
   "display_name": "Python 3 (ipykernel)",
   "language": "python",
   "name": "python3"
  },
  "language_info": {
   "codemirror_mode": {
    "name": "ipython",
    "version": 3
   },
   "file_extension": ".py",
   "mimetype": "text/x-python",
   "name": "python",
   "nbconvert_exporter": "python",
   "pygments_lexer": "ipython3",
   "version": "3.9.7"
  }
 },
 "nbformat": 4,
 "nbformat_minor": 5
}
